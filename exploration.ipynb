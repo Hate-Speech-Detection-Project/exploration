{
 "cells": [
  {
   "cell_type": "code",
   "execution_count": null,
   "metadata": {
    "collapsed": true
   },
   "outputs": [],
   "source": [
    "import pandas as pd\n",
    "import matplotlib.pyplot as plt\n",
    "import numpy as np"
   ]
  },
  {
   "cell_type": "code",
   "execution_count": null,
   "metadata": {
    "collapsed": true
   },
   "outputs": [],
   "source": [
    "pd.set_option('display.max_colwidth', 300)"
   ]
  },
  {
   "cell_type": "markdown",
   "metadata": {
    "slideshow": {
     "slide_type": "-"
    }
   },
   "source": [
    "\n",
    "## Read the data"
   ]
  },
  {
   "cell_type": "code",
   "execution_count": null,
   "metadata": {},
   "outputs": [],
   "source": [
    "df=pd.read_csv('/files/data/cleansed.csv', sep=',')\n",
    "df['created'] = pd.to_datetime(df['created'], unit='s')\n",
    "df"
   ]
  },
  {
   "cell_type": "markdown",
   "metadata": {},
   "source": [
    "\n",
    "\n",
    "## What does moderated mean?"
   ]
  },
  {
   "cell_type": "code",
   "execution_count": null,
   "metadata": {},
   "outputs": [],
   "source": [
    "df.reset_index().groupby([\"moderated\"]).count()['cid']"
   ]
  },
  {
   "cell_type": "code",
   "execution_count": null,
   "metadata": {},
   "outputs": [],
   "source": [
    "df.reset_index().groupby([\"moderated\"]).count()['cid'].plot.barh()"
   ]
  },
  {
   "cell_type": "code",
   "execution_count": null,
   "metadata": {},
   "outputs": [],
   "source": [
    "df.groupby([\"moderated\"]).count()['cid'].sum()"
   ]
  },
  {
   "cell_type": "code",
   "execution_count": null,
   "metadata": {},
   "outputs": [],
   "source": [
    "count_moderated = df[df['moderated'] > 1].groupby([\"moderated\"]).count()['cid'].sum()\n",
    "print('Moderated comments:', count_moderated)"
   ]
  },
  {
   "cell_type": "markdown",
   "metadata": {},
   "source": [
    "\n",
    "\n",
    "## Search for users with many comments"
   ]
  },
  {
   "cell_type": "code",
   "execution_count": null,
   "metadata": {},
   "outputs": [],
   "source": [
    "df.groupby('uid').count().cid.hist(bins=100)"
   ]
  },
  {
   "cell_type": "code",
   "execution_count": null,
   "metadata": {},
   "outputs": [],
   "source": [
    "df.groupby('uid').filter(lambda x: len(x) > 10)"
   ]
  },
  {
   "cell_type": "markdown",
   "metadata": {},
   "source": [
    "\n",
    "\n",
    "## Inspect a user"
   ]
  },
  {
   "cell_type": "code",
   "execution_count": null,
   "metadata": {
    "scrolled": true
   },
   "outputs": [],
   "source": [
    "df.loc[df['uid'] == '444042']"
   ]
  },
  {
   "cell_type": "markdown",
   "metadata": {},
   "source": [
    "\n",
    "\n",
    "## Find users with moderated comments"
   ]
  },
  {
   "cell_type": "code",
   "execution_count": null,
   "metadata": {},
   "outputs": [],
   "source": [
    "len(df[df['moderated'] > 1])"
   ]
  },
  {
   "cell_type": "code",
   "execution_count": null,
   "metadata": {
    "scrolled": true
   },
   "outputs": [],
   "source": [
    "df[df['moderated'] > 1]"
   ]
  },
  {
   "cell_type": "markdown",
   "metadata": {},
   "source": [
    "\n",
    "\n",
    "## Find original comments"
   ]
  },
  {
   "cell_type": "code",
   "execution_count": null,
   "metadata": {
    "scrolled": false
   },
   "outputs": [],
   "source": [
    "# Get all moderated cids\n",
    "cids = df[df.moderated > 1].cid.as_matrix()\n",
    "\n",
    "# Filter for cids that appear at least twice\n",
    "cids_at_least_twice = df[df['cid'].isin(cids)].groupby('cid').filter(lambda x: len(x) > 1).cid.as_matrix()\n",
    "\n",
    "df[df['cid'].isin(cids_at_least_twice)].sort_values(by=['cid', 'created'])[['cid', 'comment', 'created']]"
   ]
  },
  {
   "cell_type": "code",
   "execution_count": null,
   "metadata": {},
   "outputs": [],
   "source": [
    "df[df.cid == '5808477']"
   ]
  },
  {
   "cell_type": "markdown",
   "metadata": {},
   "source": [
    "\n",
    "\n",
    "## When where moderated comments posted?"
   ]
  },
  {
   "cell_type": "code",
   "execution_count": null,
   "metadata": {},
   "outputs": [],
   "source": [
    "tohist_df = df[df['cid'].isin(cids_at_least_twice)].drop_duplicates(subset='cid')\n",
    "tohist_df[\"date\"] = tohist_df[\"created\"].astype(\"datetime64[ns]\")\n",
    "\n",
    "pd.options.mode.chained_assignment = None\n",
    "tohist_df.groupby(tohist_df[\"date\"].dt.day)['cid'].count().plot(kind=\"bar\")"
   ]
  },
  {
   "cell_type": "code",
   "execution_count": null,
   "metadata": {},
   "outputs": [],
   "source": [
    "tohist_df = df[df['cid'].isin(cids_at_least_twice)].drop_duplicates(subset='cid')\n",
    "tohist_df[\"date\"] = tohist_df[\"created\"].astype(\"datetime64[ns]\")\n",
    "\n",
    "pd.options.mode.chained_assignment = None\n",
    "tohist_df.groupby(tohist_df[\"date\"].dt.hour)['cid'].count().apply(lambda x: x/120).plot(kind=\"bar\")"
   ]
  },
  {
   "cell_type": "markdown",
   "metadata": {},
   "source": [
    "\n",
    "\n",
    "## When were comments posted in general?"
   ]
  },
  {
   "cell_type": "code",
   "execution_count": null,
   "metadata": {},
   "outputs": [],
   "source": [
    "tohist_df = df.drop_duplicates(subset='cid')\n",
    "tohist_df[\"date\"] = tohist_df[\"created\"].astype(\"datetime64[ns]\")\n",
    "\n",
    "pd.options.mode.chained_assignment = None\n",
    "tohist_df.groupby(tohist_df[\"date\"].dt.hour)['cid'].count().apply(lambda x: x/700).plot(kind=\"bar\")"
   ]
  },
  {
   "cell_type": "code",
   "execution_count": null,
   "metadata": {},
   "outputs": [],
   "source": [
    "tohist_df = df[df['cid'].isin(cids_at_least_twice)].drop_duplicates(subset='cid')\n",
    "tohist_df[\"date\"] = tohist_df[\"created\"].astype(\"datetime64[ns]\")\n",
    "\n",
    "moderated_df = tohist_df.groupby(tohist_df[\"date\"].dt.hour)['cid'].count().apply(lambda x: x/120)\n",
    "\n",
    "tohist_df = df.drop_duplicates(subset='cid')\n",
    "tohist_df[\"date\"] = tohist_df[\"created\"].astype(\"datetime64[ns]\")\n",
    "\n",
    "unmoderated_df = tohist_df.groupby(tohist_df[\"date\"].dt.hour)['cid'].count().apply(lambda x: x/700)\n",
    "\n",
    "(moderated_df-unmoderated_df).plot()"
   ]
  },
  {
   "cell_type": "markdown",
   "metadata": {},
   "source": [
    "\n",
    "\n",
    "## Search for duplicates"
   ]
  },
  {
   "cell_type": "code",
   "execution_count": null,
   "metadata": {},
   "outputs": [],
   "source": [
    "df[df.duplicated('comment', False)].sort_values(by=['comment'])[['cid', 'comment']]"
   ]
  },
  {
   "cell_type": "code",
   "execution_count": null,
   "metadata": {},
   "outputs": [],
   "source": [
    "duplicates = df[df.duplicated('comment')].sort_values(by=['comment'])[['cid', 'comment']]\n",
    "duplicates[duplicates[\"comment\"].str.contains('<em>')==False]"
   ]
  },
  {
   "cell_type": "code",
   "execution_count": null,
   "metadata": {},
   "outputs": [],
   "source": [
    "duplicates = df[df.duplicated('comment')].sort_values(by=['comment'])[['cid', 'comment']]\n",
    "len(duplicates[duplicates[\"comment\"].str.contains('<em>')==False])"
   ]
  },
  {
   "cell_type": "markdown",
   "metadata": {},
   "source": [
    "\n",
    "\n",
    "## Compare posts and replies"
   ]
  },
  {
   "cell_type": "code",
   "execution_count": null,
   "metadata": {},
   "outputs": [],
   "source": [
    "print(\"Comments with parent:\", len(df[df.pid > 0]))\n",
    "print(\"Comments without parent:\", len(df[df.pid == 0]))\n",
    "\n",
    "print('-'*30)\n",
    "df_no_moderates = duplicates[duplicates[\"comment\"].str.contains('<em>')==True]\n",
    "\n",
    "duplicates = df[df.duplicated('comment')].sort_values(by=['comment'])\n",
    "print(\"Duplicates with parent:\", len(duplicates[duplicates.pid > 0]))\n",
    "print(\"Duplicates without parent:\", len(duplicates[duplicates.pid == 0]))\n",
    "\n",
    "print('-'*30)\n",
    "\n",
    "moderated = df[df['moderated'] > 1]\n",
    "\n",
    "print(\"Moderated with parent:\", len(moderated[moderated.pid > 0]))\n",
    "print(\"Moderated without parent:\", len(moderated[moderated.pid == 0]))"
   ]
  },
  {
   "cell_type": "markdown",
   "metadata": {},
   "source": [
    "\n",
    "\n",
    "# Hate Speech"
   ]
  },
  {
   "cell_type": "code",
   "execution_count": null,
   "metadata": {},
   "outputs": [],
   "source": [
    "moderated_cids = df[df.moderated > 1].cid.as_matrix()\n",
    "moderated_all = df[df['cid'].isin(moderated_cids)]\n",
    "moderated = moderated_all[moderated_all['moderated'] == 1]\n",
    "\n",
    "duplicate_cids = df[df.duplicated('comment')].sort_values(by=['comment'])['cid'].as_matrix()\n",
    "\n",
    "# Filter for cids that appear at least twice\n",
    "hate_comments = moderated[~moderated['cid'].isin(duplicate_cids)]\n",
    "hate_comments"
   ]
  },
  {
   "cell_type": "markdown",
   "metadata": {},
   "source": [
    "\n",
    "\n",
    "## Most frequent words in hate speech"
   ]
  },
  {
   "cell_type": "code",
   "execution_count": null,
   "metadata": {},
   "outputs": [],
   "source": [
    "## in General\n",
    "pd.Series(' '.join(hate_comments['comment']).lower().split()).value_counts()[:50]"
   ]
  },
  {
   "cell_type": "code",
   "execution_count": null,
   "metadata": {
    "collapsed": true
   },
   "outputs": [],
   "source": [
    "!pip install nltk\n",
    "nltk.download('punkt')\n",
    "nltk.download('stopwords')"
   ]
  },
  {
   "cell_type": "code",
   "execution_count": null,
   "metadata": {},
   "outputs": [],
   "source": [
    "from collections import Counter\n",
    "import pandas as pd\n",
    "import nltk\n",
    "\n",
    "top_N = 50\n",
    "\n",
    "hate_df = hate_comments[['comment']]\n",
    "hate_df['comment'] = hate_df['comment'].str.replace('[-./,;!-!:()?]','')\n",
    "\n",
    "\n",
    "stopwords = nltk.corpus.stopwords.words('german')\n",
    "# RegEx for stopwords\n",
    "RE_stopwords = r'\\b(?:{})\\b'.format('|'.join(stopwords))\n",
    "# replace '|'-->' ' and drop all stopwords\n",
    "words = (hate_df.comment\n",
    "           .str.lower()\n",
    "           .replace([r'\\|', RE_stopwords], [' ', ''], regex=True)\n",
    "           .str.cat(sep=' ')\n",
    "           .split()\n",
    ")\n",
    "\n",
    "# generate DF out of Counter\n",
    "rslt = pd.DataFrame(Counter(words).most_common(top_N),\n",
    "                    columns=['Word', 'Frequency']).set_index('Word')\n",
    "print(rslt)\n",
    "\n",
    "# plot\n",
    "rslt.head(15).plot.bar(rot=0, figsize=(16,10), width=0.8)"
   ]
  },
  {
   "cell_type": "code",
   "execution_count": null,
   "metadata": {},
   "outputs": [],
   "source": [
    "from collections import Counter\n",
    "import pandas as pd\n",
    "import nltk\n",
    "\n",
    "top_N = 50\n",
    "\n",
    "all_df = df[['comment']]\n",
    "all_df['comment'] = all_df['comment'].str.replace('[-./,;!-!:()?]','')\n",
    "\n",
    "\n",
    "stopwords = nltk.corpus.stopwords.words('german')\n",
    "# RegEx for stopwords\n",
    "RE_stopwords = r'\\b(?:{})\\b'.format('|'.join(stopwords))\n",
    "# replace '|'-->' ' and drop all stopwords\n",
    "words = (all_df.comment\n",
    "           .str.lower()\n",
    "           .replace([r'\\|', RE_stopwords], [' ', ''], regex=True)\n",
    "           .str.cat(sep=' ')\n",
    "           .split()\n",
    ")\n",
    "\n",
    "# generate DF out of Counter\n",
    "all_rslt = pd.DataFrame(Counter(words).most_common(top_N),\n",
    "                    columns=['Word', 'Frequency']).set_index('Word')\n",
    "print(rslt)\n",
    "\n",
    "# plot\n",
    "all_rslt.head(15).plot.bar(rot=0, figsize=(16,10), width=0.8)"
   ]
  },
  {
   "cell_type": "code",
   "execution_count": null,
   "metadata": {},
   "outputs": [],
   "source": [
    "pd.concat([all_rslt, rslt], axis=1, join='inner')"
   ]
  },
  {
   "cell_type": "code",
   "execution_count": null,
   "metadata": {},
   "outputs": [],
   "source": [
    "pd.concat([all_rslt.reset_index(), rslt.reset_index()], axis=1, join='inner')"
   ]
  },
  {
   "cell_type": "code",
   "execution_count": null,
   "metadata": {},
   "outputs": [],
   "source": [
    "df.drop_duplicates(subset='subject')\n"
   ]
  },
  {
   "cell_type": "code",
   "execution_count": null,
   "metadata": {
    "collapsed": true
   },
   "outputs": [],
   "source": []
  }
 ],
 "metadata": {
  "kernelspec": {
   "display_name": "Python 3",
   "language": "python",
   "name": "python3"
  },
  "language_info": {
   "codemirror_mode": {
    "name": "ipython",
    "version": 3
   },
   "file_extension": ".py",
   "mimetype": "text/x-python",
   "name": "python",
   "nbconvert_exporter": "python",
   "pygments_lexer": "ipython3",
   "version": "3.5.2"
  }
 },
 "nbformat": 4,
 "nbformat_minor": 2
}
